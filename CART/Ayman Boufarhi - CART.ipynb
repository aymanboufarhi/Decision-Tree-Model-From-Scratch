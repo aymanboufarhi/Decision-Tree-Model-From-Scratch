{
 "cells": [
  {
   "cell_type": "markdown",
   "id": "ab6f5387-52ef-4071-a080-e09b9c72ccc3",
   "metadata": {
    "collapsed": true,
    "jupyter": {
     "outputs_hidden": true
    }
   },
   "source": [
    "# **Regression**"
   ]
  },
  {
   "cell_type": "markdown",
   "id": "e25ef3d8-f4f2-41aa-9044-5a482699c526",
   "metadata": {},
   "source": [
    "## _Approximation of the \"tip\" column in the Tips example dataset using the CART decision tree model._\n"
   ]
  },
  {
   "cell_type": "markdown",
   "id": "9f92aa10-1533-4f53-b56d-2dad131c8013",
   "metadata": {},
   "source": [
    "Loading libraries"
   ]
  },
  {
   "cell_type": "code",
   "execution_count": 1,
   "id": "33a11c4a-f0d1-475d-9389-51f39f172cc1",
   "metadata": {},
   "outputs": [],
   "source": [
    "import pandas as pd\n",
    "import numpy as np"
   ]
  },
  {
   "cell_type": "markdown",
   "id": "68a8d3a7-21f6-4166-9c3c-e550fc8a28c3",
   "metadata": {},
   "source": [
    "Loading data\n"
   ]
  },
  {
   "cell_type": "code",
   "execution_count": 2,
   "id": "7b2b2709-deae-4eb3-a142-6c1bdb412fb9",
   "metadata": {},
   "outputs": [
    {
     "name": "stdout",
     "output_type": "stream",
     "text": [
      "Examples from the dataset:\n",
      "   total_bill   tip     sex smoker  day    time  size\n",
      "0       16.99  1.01  Female     No  Sun  Dinner     2\n",
      "1       10.34  1.66    Male     No  Sun  Dinner     3\n",
      "2       21.01  3.50    Male     No  Sun  Dinner     3\n",
      "3       23.68  3.31    Male     No  Sun  Dinner     2\n",
      "4       24.59  3.61  Female     No  Sun  Dinner     4\n"
     ]
    }
   ],
   "source": [
    "import seaborn as sns\n",
    "dataSet = sns.load_dataset(\"tips\")\n",
    "print(\"Examples from the dataset:\")\n",
    "print(dataSet.head())  # Display the first few rows of the dataset"
   ]
  },
  {
   "cell_type": "markdown",
   "id": "84cd51dc-a406-4e68-84f4-734e043e73f8",
   "metadata": {},
   "source": [
    "Definition of a class to represent a tree node"
   ]
  },
  {
   "cell_type": "code",
   "execution_count": 3,
   "id": "dae7f4a1-cec8-4802-b42b-cd4fc9162ab5",
   "metadata": {},
   "outputs": [],
   "source": [
    "class Node:\n",
    "    def __init__(self, feature=None, threshold=None, value=None, left=None, right=None):\n",
    "        self.feature = feature        # Splitting feature\n",
    "        self.threshold = threshold    # Threshold value for splitting\n",
    "        self.value = value            # Prediction value for a leaf\n",
    "        self.left = left              # Left subtree\n",
    "        self.right = right            # Right subtree"
   ]
  },
  {
   "cell_type": "markdown",
   "id": "021b0392-b5d9-4f19-88c0-e98f286e21ec",
   "metadata": {},
   "source": [
    "Function to calculate the Gini index"
   ]
  },
  {
   "cell_type": "code",
   "execution_count": 4,
   "id": "68577ef5-f744-447e-aafd-f7caf6d4904a",
   "metadata": {},
   "outputs": [],
   "source": [
    "def calculate_gini(y):\n",
    "    classes = np.unique(y)\n",
    "    gini = 1.0\n",
    "    for cls in classes:\n",
    "        p = np.sum(y == cls) / len(y)\n",
    "        gini -= p ** 2\n",
    "    return gini"
   ]
  },
  {
   "cell_type": "markdown",
   "id": "390e4d35-4932-4c61-abaa-f728ace8a8e1",
   "metadata": {},
   "source": [
    "Function to split data based on a feature and a threshold value"
   ]
  },
  {
   "cell_type": "code",
   "execution_count": 5,
   "id": "988449b5-8a50-4812-af60-f9cac8add18b",
   "metadata": {},
   "outputs": [],
   "source": [
    "def split_data(X, y, feature, threshold):\n",
    "    left_mask = X.iloc[:, feature] <= threshold\n",
    "    right_mask = ~left_mask\n",
    "    return X[left_mask], y[left_mask], X[right_mask], y[right_mask]"
   ]
  },
  {
   "cell_type": "markdown",
   "id": "4ec25841-ba03-4059-af18-fef451789bea",
   "metadata": {},
   "source": [
    "Function to find the best split"
   ]
  },
  {
   "cell_type": "code",
   "execution_count": 6,
   "id": "0f189d65-53b7-4428-958f-256d834f4c21",
   "metadata": {},
   "outputs": [],
   "source": [
    "def find_best_split(X, y):\n",
    "    num_features = X.shape[1]\n",
    "    best_gini = float('inf')\n",
    "    best_feature = None\n",
    "    best_threshold = None\n",
    "\n",
    "    for feature in range(num_features):\n",
    "        values = np.unique(X.iloc[:, feature])\n",
    "        for threshold in values:\n",
    "            X_left, y_left, X_right, y_right = split_data(X, y, feature, threshold)\n",
    "            gini_left = calculate_gini(y_left)\n",
    "            gini_right = calculate_gini(y_right)\n",
    "            gini = (len(y_left) * gini_left + len(y_right) * gini_right) / len(y)\n",
    "            \n",
    "            if gini < best_gini:\n",
    "                best_gini = gini\n",
    "                best_feature = feature\n",
    "                best_threshold = threshold\n",
    "\n",
    "    return best_feature, best_threshold"
   ]
  },
  {
   "cell_type": "markdown",
   "id": "c14eeff6-ce05-4325-a2ef-eb4066c25380",
   "metadata": {},
   "source": [
    "Recursive function to build the tree"
   ]
  },
  {
   "cell_type": "code",
   "execution_count": 7,
   "id": "41fe99be-4620-4739-b916-deaca73d3f1a",
   "metadata": {},
   "outputs": [],
   "source": [
    "def build_tree(X, y, depth=0, max_depth=None):\n",
    "    if depth == max_depth or len(np.unique(y)) == 1:\n",
    "        # Create a leaf\n",
    "        return Node(value=np.mean(y))\n",
    "\n",
    "    feature, threshold = find_best_split(X, y)\n",
    "    if feature is not None:\n",
    "        # Split the data based on the best feature and threshold\n",
    "        X_left, y_left, X_right, y_right = split_data(X, y, feature, threshold)\n",
    "        \n",
    "        # Build the subtrees recursively\n",
    "        left_subtree = build_tree(X_left, y_left, depth + 1, max_depth)\n",
    "        right_subtree = build_tree(X_right, y_right, depth + 1, max_depth)\n",
    "        \n",
    "        # Return the current node\n",
    "        return Node(feature=feature, threshold=threshold, left=left_subtree, right=right_subtree)\n",
    "    else:\n",
    "        # No split possible, create a leaf\n",
    "        return Node(value=np.mean(y))"
   ]
  },
  {
   "cell_type": "markdown",
   "id": "e805c1b6-6101-43f4-aa24-d62db710b56a",
   "metadata": {},
   "source": [
    "Function to predict a single observation"
   ]
  },
  {
   "cell_type": "code",
   "execution_count": 8,
   "id": "7b68f9c9-c51f-436c-8db1-4d8c5e5f4c71",
   "metadata": {},
   "outputs": [],
   "source": [
    "def predict_one(tree, x):\n",
    "    if tree.value is not None:\n",
    "        return tree.value\n",
    "    elif x.iloc[tree.feature] <= tree.threshold:\n",
    "        return predict_one(tree.left, x)\n",
    "    else:\n",
    "        return predict_one(tree.right, x)"
   ]
  },
  {
   "cell_type": "markdown",
   "id": "844a10f2-5f41-49e9-aaa0-4be48b233451",
   "metadata": {},
   "source": [
    "Function to predict a set of observations"
   ]
  },
  {
   "cell_type": "code",
   "execution_count": 9,
   "id": "2bbdae8a-fcb3-4f8f-85e6-3d481a07e4bc",
   "metadata": {},
   "outputs": [],
   "source": [
    "def predict(tree, X):\n",
    "    return [predict_one(tree, x) for _, x in X.iterrows()]"
   ]
  },
  {
   "cell_type": "markdown",
   "id": "3be9e0ad-c08f-443b-86f4-8fb1ef0b19da",
   "metadata": {},
   "source": [
    "Check the type of each column and convert categorical columns"
   ]
  },
  {
   "cell_type": "code",
   "execution_count": 10,
   "id": "9db8edc3-e1c8-418b-b428-3e14b362da67",
   "metadata": {},
   "outputs": [],
   "source": [
    "for col in dataSet.columns:\n",
    "    if dataSet[col].dtype.name == 'category':\n",
    "        dataSet[col] = dataSet[col].cat.codes"
   ]
  },
  {
   "cell_type": "markdown",
   "id": "96284abb-48f6-40a5-b20b-4896b29d0b68",
   "metadata": {},
   "source": [
    "Split the data into features (X) and target variable (y)\n"
   ]
  },
  {
   "cell_type": "code",
   "execution_count": 11,
   "id": "8a575a75-283c-4cb7-8f55-5e2e6aa61f35",
   "metadata": {},
   "outputs": [
    {
     "name": "stdout",
     "output_type": "stream",
     "text": [
      "Examples of features (X) and target variable (y):\n",
      "Features (X):\n",
      "   total_bill  sex  smoker  day  time  size\n",
      "0       16.99    1       1    3     1     2\n",
      "1       10.34    0       1    3     1     3\n",
      "2       21.01    0       1    3     1     3\n",
      "3       23.68    0       1    3     1     2\n",
      "4       24.59    1       1    3     1     4\n",
      "Target variable (y):\n",
      "0    1.01\n",
      "1    1.66\n",
      "2    3.50\n",
      "3    3.31\n",
      "4    3.61\n",
      "Name: tip, dtype: float64\n"
     ]
    }
   ],
   "source": [
    "X = dataSet.drop(\"tip\", axis=1)\n",
    "y = dataSet[\"tip\"]\n",
    "\n",
    "print(\"Examples of features (X) and target variable (y):\")\n",
    "print(\"Features (X):\")\n",
    "print(X.head())\n",
    "print(\"Target variable (y):\")\n",
    "print(y.head())"
   ]
  },
  {
   "cell_type": "markdown",
   "id": "26258363-3f0b-428a-9252-7f2d9fdccbda",
   "metadata": {},
   "source": [
    "Build the decision tree"
   ]
  },
  {
   "cell_type": "code",
   "execution_count": 12,
   "id": "ae62969d-3ead-4c64-a989-1db3e19f54b6",
   "metadata": {},
   "outputs": [
    {
     "name": "stdout",
     "output_type": "stream",
     "text": [
      "Decision tree built successfully.\n"
     ]
    }
   ],
   "source": [
    "tree = build_tree(X, y, max_depth=3)\n",
    "print(\"Decision tree built successfully.\")"
   ]
  },
  {
   "cell_type": "markdown",
   "id": "8ee31751-6efb-403e-a737-e5955a1451b3",
   "metadata": {},
   "source": [
    "Predict values"
   ]
  },
  {
   "cell_type": "code",
   "execution_count": 13,
   "id": "f2b6042c-6ec3-431d-8133-0de68abce352",
   "metadata": {},
   "outputs": [
    {
     "name": "stdout",
     "output_type": "stream",
     "text": [
      "Predictions for examples from the dataset:\n",
      "[2.8560919540229883, 1.8607999999999998, 2.8560919540229883, 4.035070422535212, 4.035070422535212, 4.035070422535212, 1.8607999999999998, 4.035070422535212, 2.8560919540229883, 2.8560919540229883, 1.8607999999999998, 4.035070422535212, 2.8560919540229883, 2.8560919540229883, 2.8560919540229883, 4.035070422535212, 1.8607999999999998, 2.8560919540229883, 2.8560919540229883, 2.8560919540229883, 2.8560919540229883, 2.8560919540229883, 2.8560919540229883, 4.035070422535212, 2.8560919540229883, 2.8560919540229883, 2.364347826086956, 1.8607999999999998, 4.035070422535212, 2.8560919540229883, 1.8607999999999998, 2.8560919540229883, 2.8560919540229883, 2.8560919540229883, 2.8560919540229883, 4.035070422535212, 2.8560919540229883, 2.8560919540229883, 2.8560919540229883, 4.035070422535212, 2.8560919540229883, 2.8560919540229883, 2.364347826086956, 1.8607999999999998, 4.035070422535212, 2.8560919540229883, 4.035070422535212, 4.035070422535212, 4.035070422535212, 2.8560919540229883, 1.8607999999999998, 1.8607999999999998, 4.035070422535212, 1.8607999999999998, 4.035070422535212, 2.8560919540229883, 4.035070422535212, 4.035070422535212, 1.8607999999999998, 4.035070422535212, 2.8560919540229883, 2.364347826086956, 1.8607999999999998, 2.8560919540229883, 2.8560919540229883, 2.8560919540229883, 2.8560919540229883, 1.0, 2.8560919540229883, 2.8560919540229883, 1.8607999999999998, 2.8560919540229883, 4.035070422535212, 4.035070422535212, 2.8560919540229883, 1.8607999999999998, 2.8560919540229883, 4.035070422535212, 4.035070422535212, 2.8560919540229883, 2.8560919540229883, 2.8560919540229883, 1.8607999999999998, 4.035070422535212, 2.8560919540229883, 4.035070422535212, 2.364347826086956, 2.8560919540229883, 4.035070422535212, 2.8560919540229883, 4.035070422535212, 4.035070422535212, 1.0, 2.8560919540229883, 4.035070422535212, 4.035070422535212, 4.035070422535212, 1.8607999999999998, 2.8560919540229883, 1.8607999999999998, 1.8607999999999998, 2.8560919540229883, 4.035070422535212, 4.035070422535212, 2.8560919540229883, 2.8560919540229883, 2.8560919540229883, 4.035070422535212, 2.8560919540229883, 2.364347826086956, 2.364347826086956, 1.0, 4.035070422535212, 4.035070422535212, 4.035070422535212, 2.8560919540229883, 4.035070422535212, 1.8607999999999998, 1.8607999999999998, 4.035070422535212, 1.8607999999999998, 2.364347826086956, 2.364347826086956, 2.8560919540229883, 1.8607999999999998, 5.148571428571429, 1.8607999999999998, 2.364347826086956, 1.8607999999999998, 4.035070422535212, 2.8560919540229883, 2.8560919540229883, 1.8607999999999998, 1.8607999999999998, 2.8560919540229883, 1.8607999999999998, 1.8607999999999998, 2.364347826086956, 2.8560919540229883, 2.364347826086956, 2.8560919540229883, 5.148571428571429, 5.148571428571429, 5.148571428571429, 2.8560919540229883, 1.8607999999999998, 2.8560919540229883, 1.8607999999999998, 1.8607999999999998, 1.8607999999999998, 2.364347826086956, 2.364347826086956, 2.8560919540229883, 4.035070422535212, 2.8560919540229883, 5.148571428571429, 5.148571428571429, 4.035070422535212, 2.364347826086956, 2.8560919540229883, 2.8560919540229883, 1.8607999999999998, 2.8560919540229883, 2.364347826086956, 2.8560919540229883, 4.035070422535212, 2.8560919540229883, 4.035070422535212, 1.8607999999999998, 1.8607999999999998, 4.035070422535212, 2.8560919540229883, 5.15, 4.035070422535212, 2.8560919540229883, 4.035070422535212, 2.8560919540229883, 2.364347826086956, 1.8607999999999998, 4.035070422535212, 4.035070422535212, 4.035070422535212, 4.035070422535212, 4.035070422535212, 4.035070422535212, 5.148571428571429, 2.8560919540229883, 2.5, 2.8560919540229883, 4.035070422535212, 2.8560919540229883, 2.8560919540229883, 4.035070422535212, 2.8560919540229883, 2.8560919540229883, 1.8607999999999998, 1.8607999999999998, 4.035070422535212, 2.364347826086956, 2.364347826086956, 2.8560919540229883, 1.8607999999999998, 2.364347826086956, 2.8560919540229883, 2.8560919540229883, 2.8560919540229883, 4.035070422535212, 4.035070422535212, 4.035070422535212, 1.8607999999999998, 4.035070422535212, 4.035070422535212, 4.035070422535212, 2.364347826086956, 4.035070422535212, 1.8607999999999998, 2.5, 1.8607999999999998, 1.8607999999999998, 4.035070422535212, 1.8607999999999998, 2.364347826086956, 1.8607999999999998, 2.8560919540229883, 2.364347826086956, 2.8560919540229883, 1.8607999999999998, 2.8560919540229883, 2.364347826086956, 4.035070422535212, 4.035070422535212, 2.8560919540229883, 1.8607999999999998, 1.8607999999999998, 2.8560919540229883, 1.8607999999999998, 1.8607999999999998, 4.035070422535212, 4.035070422535212, 4.035070422535212, 4.035070422535212, 4.035070422535212, 2.8560919540229883, 2.8560919540229883]\n"
     ]
    }
   ],
   "source": [
    "predictions = predict(tree, X)\n",
    "print(\"Predictions for examples from the dataset:\")\n",
    "print(predictions)"
   ]
  },
  {
   "cell_type": "markdown",
   "id": "addc3026-517f-474c-847e-08c570e12730",
   "metadata": {},
   "source": [
    "Create a new observation and make a prediction"
   ]
  },
  {
   "cell_type": "code",
   "execution_count": 14,
   "id": "0be9b815-5efb-4caa-91bf-0e13b51a71be",
   "metadata": {},
   "outputs": [
    {
     "name": "stdout",
     "output_type": "stream",
     "text": [
      "Example of a new observation:\n",
      "   total_bill   sex smoker  day    time  size\n",
      "0       38.07  Male     No  Sun  Dinner     3\n"
     ]
    }
   ],
   "source": [
    "print(\"Example of a new observation:\")\n",
    "new_observation = pd.DataFrame({\n",
    "    \"total_bill\": 38.07,\n",
    "    \"sex\": \"Male\",\n",
    "    \"smoker\": \"No\",\n",
    "    \"day\": \"Sun\",\n",
    "    \"time\": \"Dinner\",\n",
    "    \"size\": 3\n",
    "}, index=[0])\n",
    "print(new_observation)"
   ]
  },
  {
   "cell_type": "markdown",
   "id": "272ec9ef-c57a-4f39-9d5b-706ffc1c8a5a",
   "metadata": {},
   "source": [
    "Convert categorical values to numeric"
   ]
  },
  {
   "cell_type": "code",
   "execution_count": 15,
   "id": "8ef047a8-ffbb-4106-b49c-111f888d9f6c",
   "metadata": {},
   "outputs": [],
   "source": [
    "for col in new_observation.columns:\n",
    "    if new_observation[col].dtype.name == 'category':\n",
    "        new_observation[col] = new_observation[col].cat.codes"
   ]
  },
  {
   "cell_type": "markdown",
   "id": "938794d4-61c3-4ad7-bded-008c7ef16c3f",
   "metadata": {},
   "source": [
    "Make the prediction"
   ]
  },
  {
   "cell_type": "code",
   "execution_count": 16,
   "id": "d58ecfa2-29ec-4842-b6bf-177b503f4889",
   "metadata": {},
   "outputs": [
    {
     "name": "stdout",
     "output_type": "stream",
     "text": [
      "Predicted Tip: 4.035070422535212\n"
     ]
    }
   ],
   "source": [
    "prediction = predict_one(tree, new_observation.iloc[0])\n",
    "print(\"Predicted Tip:\", prediction)"
   ]
  }
 ],
 "metadata": {
  "kernelspec": {
   "display_name": "Python 3 (ipykernel)",
   "language": "python",
   "name": "python3"
  },
  "language_info": {
   "codemirror_mode": {
    "name": "ipython",
    "version": 3
   },
   "file_extension": ".py",
   "mimetype": "text/x-python",
   "name": "python",
   "nbconvert_exporter": "python",
   "pygments_lexer": "ipython3",
   "version": "3.12.0"
  }
 },
 "nbformat": 4,
 "nbformat_minor": 5
}
