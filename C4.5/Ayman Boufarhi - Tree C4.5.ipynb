{
 "cells": [
  {
   "cell_type": "markdown",
   "id": "3be33e0f-a2ba-46bd-ad2e-eb049902ca8d",
   "metadata": {},
   "source": [
    "# **Classification**"
   ]
  },
  {
   "cell_type": "markdown",
   "id": "9f980e57-ff59-4866-a783-5844a58259c9",
   "metadata": {
    "collapsed": false,
    "jupyter": {
     "outputs_hidden": false
    }
   },
   "source": [
    "## _Classifying Fisher's Iris data using the C4.5 decision tree model._\n"
   ]
  },
  {
   "cell_type": "markdown",
   "id": "2f613071-ab52-4472-9d44-c049a94f9ef6",
   "metadata": {
    "collapsed": false,
    "jupyter": {
     "outputs_hidden": false
    }
   },
   "source": [
    "Importing the necessary libraries :\n",
    "\n",
    "\n",
    "\n"
   ]
  },
  {
   "cell_type": "code",
   "execution_count": 1,
   "id": "497db6d7538d2cba",
   "metadata": {
    "ExecuteTime": {
     "end_time": "2023-11-26T18:22:53.402968700Z",
     "start_time": "2023-11-26T18:22:53.369112600Z"
    },
    "collapsed": false,
    "jupyter": {
     "outputs_hidden": false
    }
   },
   "outputs": [],
   "source": [
    "from math import log\n",
    "import operator\n",
    "import treePlotter as tpl\n",
    "from sklearn.datasets import load_iris"
   ]
  },
  {
   "cell_type": "markdown",
   "id": "4ebedd5b-dff9-48b0-9e1a-7c3e2d459667",
   "metadata": {
    "collapsed": false,
    "jupyter": {
     "outputs_hidden": false
    }
   },
   "source": [
    "Function to load the Iris dataset :\n"
   ]
  },
  {
   "cell_type": "code",
   "execution_count": 2,
   "id": "b7ff2da5ca129665",
   "metadata": {
    "ExecuteTime": {
     "end_time": "2023-11-26T18:22:57.944916800Z",
     "start_time": "2023-11-26T18:22:57.892020800Z"
    },
    "collapsed": false,
    "jupyter": {
     "outputs_hidden": false
    }
   },
   "outputs": [],
   "source": [
    "def createDataSet():\n",
    "    iris = load_iris()\n",
    "\n",
    "    # Convert numerical target values to corresponding class names\n",
    "    target_names = iris.target_names.tolist()\n",
    "    labels = [target_names[int(label)] for label in iris.target]\n",
    "\n",
    "    # Combine features and labels\n",
    "    iris_data = [row + [label] for row, label in zip(iris.data.tolist(), labels)]\n",
    "\n",
    "    return iris_data, iris.feature_names + ['species']"
   ]
  },
  {
   "cell_type": "markdown",
   "id": "58b93385-194e-4269-ab98-fada5214dd94",
   "metadata": {
    "collapsed": false,
    "jupyter": {
     "outputs_hidden": false
    }
   },
   "source": [
    "Displaying the loaded Iris dataset :\n"
   ]
  },
  {
   "cell_type": "code",
   "execution_count": 3,
   "id": "8c05decf82b8c5fe",
   "metadata": {
    "ExecuteTime": {
     "end_time": "2023-11-24T13:06:09.665760300Z",
     "start_time": "2023-11-24T13:06:09.643162300Z"
    },
    "collapsed": false,
    "jupyter": {
     "outputs_hidden": false
    }
   },
   "outputs": [
    {
     "name": "stdout",
     "output_type": "stream",
     "text": [
      "[[5.1, 3.5, 1.4, 0.2, 'setosa'], [4.9, 3.0, 1.4, 0.2, 'setosa'], [4.7, 3.2, 1.3, 0.2, 'setosa'], [4.6, 3.1, 1.5, 0.2, 'setosa'], [5.0, 3.6, 1.4, 0.2, 'setosa'], [5.4, 3.9, 1.7, 0.4, 'setosa'], [4.6, 3.4, 1.4, 0.3, 'setosa'], [5.0, 3.4, 1.5, 0.2, 'setosa'], [4.4, 2.9, 1.4, 0.2, 'setosa'], [4.9, 3.1, 1.5, 0.1, 'setosa'], [5.4, 3.7, 1.5, 0.2, 'setosa'], [4.8, 3.4, 1.6, 0.2, 'setosa'], [4.8, 3.0, 1.4, 0.1, 'setosa'], [4.3, 3.0, 1.1, 0.1, 'setosa'], [5.8, 4.0, 1.2, 0.2, 'setosa'], [5.7, 4.4, 1.5, 0.4, 'setosa'], [5.4, 3.9, 1.3, 0.4, 'setosa'], [5.1, 3.5, 1.4, 0.3, 'setosa'], [5.7, 3.8, 1.7, 0.3, 'setosa'], [5.1, 3.8, 1.5, 0.3, 'setosa'], [5.4, 3.4, 1.7, 0.2, 'setosa'], [5.1, 3.7, 1.5, 0.4, 'setosa'], [4.6, 3.6, 1.0, 0.2, 'setosa'], [5.1, 3.3, 1.7, 0.5, 'setosa'], [4.8, 3.4, 1.9, 0.2, 'setosa'], [5.0, 3.0, 1.6, 0.2, 'setosa'], [5.0, 3.4, 1.6, 0.4, 'setosa'], [5.2, 3.5, 1.5, 0.2, 'setosa'], [5.2, 3.4, 1.4, 0.2, 'setosa'], [4.7, 3.2, 1.6, 0.2, 'setosa'], [4.8, 3.1, 1.6, 0.2, 'setosa'], [5.4, 3.4, 1.5, 0.4, 'setosa'], [5.2, 4.1, 1.5, 0.1, 'setosa'], [5.5, 4.2, 1.4, 0.2, 'setosa'], [4.9, 3.1, 1.5, 0.2, 'setosa'], [5.0, 3.2, 1.2, 0.2, 'setosa'], [5.5, 3.5, 1.3, 0.2, 'setosa'], [4.9, 3.6, 1.4, 0.1, 'setosa'], [4.4, 3.0, 1.3, 0.2, 'setosa'], [5.1, 3.4, 1.5, 0.2, 'setosa'], [5.0, 3.5, 1.3, 0.3, 'setosa'], [4.5, 2.3, 1.3, 0.3, 'setosa'], [4.4, 3.2, 1.3, 0.2, 'setosa'], [5.0, 3.5, 1.6, 0.6, 'setosa'], [5.1, 3.8, 1.9, 0.4, 'setosa'], [4.8, 3.0, 1.4, 0.3, 'setosa'], [5.1, 3.8, 1.6, 0.2, 'setosa'], [4.6, 3.2, 1.4, 0.2, 'setosa'], [5.3, 3.7, 1.5, 0.2, 'setosa'], [5.0, 3.3, 1.4, 0.2, 'setosa'], [7.0, 3.2, 4.7, 1.4, 'versicolor'], [6.4, 3.2, 4.5, 1.5, 'versicolor'], [6.9, 3.1, 4.9, 1.5, 'versicolor'], [5.5, 2.3, 4.0, 1.3, 'versicolor'], [6.5, 2.8, 4.6, 1.5, 'versicolor'], [5.7, 2.8, 4.5, 1.3, 'versicolor'], [6.3, 3.3, 4.7, 1.6, 'versicolor'], [4.9, 2.4, 3.3, 1.0, 'versicolor'], [6.6, 2.9, 4.6, 1.3, 'versicolor'], [5.2, 2.7, 3.9, 1.4, 'versicolor'], [5.0, 2.0, 3.5, 1.0, 'versicolor'], [5.9, 3.0, 4.2, 1.5, 'versicolor'], [6.0, 2.2, 4.0, 1.0, 'versicolor'], [6.1, 2.9, 4.7, 1.4, 'versicolor'], [5.6, 2.9, 3.6, 1.3, 'versicolor'], [6.7, 3.1, 4.4, 1.4, 'versicolor'], [5.6, 3.0, 4.5, 1.5, 'versicolor'], [5.8, 2.7, 4.1, 1.0, 'versicolor'], [6.2, 2.2, 4.5, 1.5, 'versicolor'], [5.6, 2.5, 3.9, 1.1, 'versicolor'], [5.9, 3.2, 4.8, 1.8, 'versicolor'], [6.1, 2.8, 4.0, 1.3, 'versicolor'], [6.3, 2.5, 4.9, 1.5, 'versicolor'], [6.1, 2.8, 4.7, 1.2, 'versicolor'], [6.4, 2.9, 4.3, 1.3, 'versicolor'], [6.6, 3.0, 4.4, 1.4, 'versicolor'], [6.8, 2.8, 4.8, 1.4, 'versicolor'], [6.7, 3.0, 5.0, 1.7, 'versicolor'], [6.0, 2.9, 4.5, 1.5, 'versicolor'], [5.7, 2.6, 3.5, 1.0, 'versicolor'], [5.5, 2.4, 3.8, 1.1, 'versicolor'], [5.5, 2.4, 3.7, 1.0, 'versicolor'], [5.8, 2.7, 3.9, 1.2, 'versicolor'], [6.0, 2.7, 5.1, 1.6, 'versicolor'], [5.4, 3.0, 4.5, 1.5, 'versicolor'], [6.0, 3.4, 4.5, 1.6, 'versicolor'], [6.7, 3.1, 4.7, 1.5, 'versicolor'], [6.3, 2.3, 4.4, 1.3, 'versicolor'], [5.6, 3.0, 4.1, 1.3, 'versicolor'], [5.5, 2.5, 4.0, 1.3, 'versicolor'], [5.5, 2.6, 4.4, 1.2, 'versicolor'], [6.1, 3.0, 4.6, 1.4, 'versicolor'], [5.8, 2.6, 4.0, 1.2, 'versicolor'], [5.0, 2.3, 3.3, 1.0, 'versicolor'], [5.6, 2.7, 4.2, 1.3, 'versicolor'], [5.7, 3.0, 4.2, 1.2, 'versicolor'], [5.7, 2.9, 4.2, 1.3, 'versicolor'], [6.2, 2.9, 4.3, 1.3, 'versicolor'], [5.1, 2.5, 3.0, 1.1, 'versicolor'], [5.7, 2.8, 4.1, 1.3, 'versicolor'], [6.3, 3.3, 6.0, 2.5, 'virginica'], [5.8, 2.7, 5.1, 1.9, 'virginica'], [7.1, 3.0, 5.9, 2.1, 'virginica'], [6.3, 2.9, 5.6, 1.8, 'virginica'], [6.5, 3.0, 5.8, 2.2, 'virginica'], [7.6, 3.0, 6.6, 2.1, 'virginica'], [4.9, 2.5, 4.5, 1.7, 'virginica'], [7.3, 2.9, 6.3, 1.8, 'virginica'], [6.7, 2.5, 5.8, 1.8, 'virginica'], [7.2, 3.6, 6.1, 2.5, 'virginica'], [6.5, 3.2, 5.1, 2.0, 'virginica'], [6.4, 2.7, 5.3, 1.9, 'virginica'], [6.8, 3.0, 5.5, 2.1, 'virginica'], [5.7, 2.5, 5.0, 2.0, 'virginica'], [5.8, 2.8, 5.1, 2.4, 'virginica'], [6.4, 3.2, 5.3, 2.3, 'virginica'], [6.5, 3.0, 5.5, 1.8, 'virginica'], [7.7, 3.8, 6.7, 2.2, 'virginica'], [7.7, 2.6, 6.9, 2.3, 'virginica'], [6.0, 2.2, 5.0, 1.5, 'virginica'], [6.9, 3.2, 5.7, 2.3, 'virginica'], [5.6, 2.8, 4.9, 2.0, 'virginica'], [7.7, 2.8, 6.7, 2.0, 'virginica'], [6.3, 2.7, 4.9, 1.8, 'virginica'], [6.7, 3.3, 5.7, 2.1, 'virginica'], [7.2, 3.2, 6.0, 1.8, 'virginica'], [6.2, 2.8, 4.8, 1.8, 'virginica'], [6.1, 3.0, 4.9, 1.8, 'virginica'], [6.4, 2.8, 5.6, 2.1, 'virginica'], [7.2, 3.0, 5.8, 1.6, 'virginica'], [7.4, 2.8, 6.1, 1.9, 'virginica'], [7.9, 3.8, 6.4, 2.0, 'virginica'], [6.4, 2.8, 5.6, 2.2, 'virginica'], [6.3, 2.8, 5.1, 1.5, 'virginica'], [6.1, 2.6, 5.6, 1.4, 'virginica'], [7.7, 3.0, 6.1, 2.3, 'virginica'], [6.3, 3.4, 5.6, 2.4, 'virginica'], [6.4, 3.1, 5.5, 1.8, 'virginica'], [6.0, 3.0, 4.8, 1.8, 'virginica'], [6.9, 3.1, 5.4, 2.1, 'virginica'], [6.7, 3.1, 5.6, 2.4, 'virginica'], [6.9, 3.1, 5.1, 2.3, 'virginica'], [5.8, 2.7, 5.1, 1.9, 'virginica'], [6.8, 3.2, 5.9, 2.3, 'virginica'], [6.7, 3.3, 5.7, 2.5, 'virginica'], [6.7, 3.0, 5.2, 2.3, 'virginica'], [6.3, 2.5, 5.0, 1.9, 'virginica'], [6.5, 3.0, 5.2, 2.0, 'virginica'], [6.2, 3.4, 5.4, 2.3, 'virginica'], [5.9, 3.0, 5.1, 1.8, 'virginica']]\n"
     ]
    }
   ],
   "source": [
    "iris_data, iris_labels = createDataSet()\n",
    "print(iris_data)"
   ]
  },
  {
   "cell_type": "markdown",
   "id": "7ce4c9fd-5042-4674-9141-3d43b51cd498",
   "metadata": {
    "collapsed": false,
    "jupyter": {
     "outputs_hidden": false
    }
   },
   "source": [
    "Function to calculate Shannon entropy :\n"
   ]
  },
  {
   "cell_type": "code",
   "execution_count": 4,
   "id": "edd56ad4ee7340f1",
   "metadata": {
    "ExecuteTime": {
     "end_time": "2023-11-24T13:07:07.493079200Z",
     "start_time": "2023-11-24T13:07:07.476375500Z"
    },
    "collapsed": false,
    "jupyter": {
     "outputs_hidden": false
    }
   },
   "outputs": [],
   "source": [
    "def calcShannonEnt(dataSet):\n",
    "    numEntries = len(dataSet)\n",
    "    labelCounts = {}\n",
    "\n",
    "    # Count occurrences of each class label\n",
    "    for featVec in dataSet:\n",
    "        currentLabel = featVec[-1]\n",
    "        if currentLabel not in labelCounts.keys():\n",
    "            labelCounts[currentLabel] = 0\n",
    "        labelCounts[currentLabel] += 1\n",
    "\n",
    "    shannonEnt = 0.0\n",
    "    for key in labelCounts:\n",
    "        prob = float(labelCounts[key]) / numEntries\n",
    "        shannonEnt -= prob * log(prob, 2)\n",
    "\n",
    "    return shannonEnt"
   ]
  },
  {
   "cell_type": "markdown",
   "id": "c0a3ca56-ea6a-4f8d-81f1-94a81fff1e5d",
   "metadata": {
    "collapsed": false,
    "jupyter": {
     "outputs_hidden": false
    }
   },
   "source": [
    "Calculating Shannon entropy for the Iris dataset :"
   ]
  },
  {
   "cell_type": "code",
   "execution_count": 5,
   "id": "896044c75830a6a",
   "metadata": {
    "ExecuteTime": {
     "end_time": "2023-11-24T13:07:24.396726500Z",
     "start_time": "2023-11-24T13:07:24.372504300Z"
    },
    "collapsed": false,
    "jupyter": {
     "outputs_hidden": false
    }
   },
   "outputs": [
    {
     "name": "stdout",
     "output_type": "stream",
     "text": [
      "Shannon Entropy: 1.584962500721156\n"
     ]
    }
   ],
   "source": [
    "shannon_entropy = calcShannonEnt(iris_data)\n",
    "print(\"Shannon Entropy:\", shannon_entropy)"
   ]
  },
  {
   "cell_type": "markdown",
   "id": "67c95b44-45c1-4c35-aa4f-93be6de506a2",
   "metadata": {
    "collapsed": false,
    "jupyter": {
     "outputs_hidden": false
    }
   },
   "source": [
    "Function to split the dataset based on a given attribute value :"
   ]
  },
  {
   "cell_type": "code",
   "execution_count": 6,
   "id": "c6906b7ff603147f",
   "metadata": {
    "ExecuteTime": {
     "end_time": "2023-11-24T13:08:03.146858700Z",
     "start_time": "2023-11-24T13:08:03.132041800Z"
    },
    "collapsed": false,
    "jupyter": {
     "outputs_hidden": false
    }
   },
   "outputs": [],
   "source": [
    "def splitDataSet(dataSet, axis, value):\n",
    "    retDataSet = []\n",
    "    for featVec in dataSet:\n",
    "        if featVec[axis] == value:\n",
    "            reducedFeatVec = featVec[:axis] + featVec[axis + 1:]\n",
    "            retDataSet.append(reducedFeatVec)\n",
    "    return retDataSet"
   ]
  },
  {
   "cell_type": "markdown",
   "id": "6ccc5ff1-6e1c-4dcb-973b-fd64a9c7d933",
   "metadata": {
    "collapsed": false,
    "jupyter": {
     "outputs_hidden": false
    }
   },
   "source": [
    "Function to split continuous dataset based on a given division point and direction :"
   ]
  },
  {
   "cell_type": "code",
   "execution_count": 7,
   "id": "565448f270769a05",
   "metadata": {
    "ExecuteTime": {
     "end_time": "2023-11-24T13:08:29.300215300Z",
     "start_time": "2023-11-24T13:08:29.290340Z"
    },
    "collapsed": false,
    "jupyter": {
     "outputs_hidden": false
    }
   },
   "outputs": [],
   "source": [
    "def splitContinuousDataSet(dataSet, axis, value, direction):\n",
    "    retDataSet = []\n",
    "    for featVec in dataSet:\n",
    "        if direction == 0:\n",
    "            if featVec[axis] > value:\n",
    "                reducedFeatVec = featVec[:axis] + featVec[axis + 1:]\n",
    "                retDataSet.append(reducedFeatVec)\n",
    "        else:\n",
    "            if featVec[axis] <= value:\n",
    "                reducedFeatVec = featVec[:axis] + featVec[axis + 1:]\n",
    "                retDataSet.append(reducedFeatVec)\n",
    "    return retDataSet"
   ]
  },
  {
   "cell_type": "markdown",
   "id": "cd1751f3-9970-4bf2-afef-56f1b46f7768",
   "metadata": {
    "collapsed": false,
    "jupyter": {
     "outputs_hidden": false
    }
   },
   "source": [
    "Function to choose the best feature for splitting the dataset :"
   ]
  },
  {
   "cell_type": "code",
   "execution_count": 8,
   "id": "555493a90345e11a",
   "metadata": {
    "ExecuteTime": {
     "end_time": "2023-11-24T13:09:15.768273400Z",
     "start_time": "2023-11-24T13:09:15.732284600Z"
    },
    "collapsed": false,
    "jupyter": {
     "outputs_hidden": false
    }
   },
   "outputs": [],
   "source": [
    "def chooseBestFeatureToSplit(dataSet):\n",
    "    numFeatures = len(dataSet[0]) - 1\n",
    "    baseEntropy = calcShannonEnt(dataSet)\n",
    "    bestInfoGainRatio = 0.0\n",
    "    bestFeature = -1\n",
    "    bestSplitPoint = None\n",
    "\n",
    "    for i in range(numFeatures):\n",
    "        featList = [example[i] for example in dataSet]\n",
    "        uniqueVals = set(featList)\n",
    "\n",
    "        if isinstance(list(uniqueVals)[0], (int, float)):  # Vérifier si la fonctionnalité est continue\n",
    "            sortedUniqueVals = sorted(uniqueVals)\n",
    "            splitPoints = [(sortedUniqueVals[j] + sortedUniqueVals[j+1]) / 2 for j in range(len(sortedUniqueVals)-1)]\n",
    "\n",
    "            for splitPoint in splitPoints:\n",
    "                newEntropy = 0.0\n",
    "                splitInfo = 0.0\n",
    "\n",
    "                for direction in range(2):  # 0: supérieur au point de division, 1: inférieur ou égal au point de division\n",
    "                    subDataSet = splitContinuousDataSet(dataSet, i, splitPoint, direction)\n",
    "                    prob = len(subDataSet) / float(len(dataSet))\n",
    "                    newEntropy += prob * calcShannonEnt(subDataSet)\n",
    "                    splitInfo -= prob * log(prob, 2)\n",
    "\n",
    "                if splitInfo == 0.0:\n",
    "                    continue\n",
    "\n",
    "                infoGain = baseEntropy - newEntropy\n",
    "                infoGainRatio = infoGain / splitInfo\n",
    "\n",
    "                if infoGainRatio > bestInfoGainRatio:\n",
    "                    bestInfoGainRatio = infoGainRatio\n",
    "                    bestFeature = i\n",
    "                    bestSplitPoint = splitPoint\n",
    "        else:  # Fonctionnalité discrète\n",
    "            newEntropy = 0.0\n",
    "            splitInfo = 0.0\n",
    "\n",
    "            for value in uniqueVals:\n",
    "                subDataSet = splitDataSet(dataSet, i, value)\n",
    "                prob = len(subDataSet) / float(len(dataSet))\n",
    "                newEntropy += prob * calcShannonEnt(subDataSet)\n",
    "                splitInfo -= prob * log(prob, 2)\n",
    "\n",
    "            if splitInfo == 0.0:\n",
    "                continue\n",
    "\n",
    "            infoGain = baseEntropy - newEntropy\n",
    "            infoGainRatio = infoGain / splitInfo\n",
    "\n",
    "            if infoGainRatio > bestInfoGainRatio:\n",
    "                bestInfoGainRatio = infoGainRatio\n",
    "                bestFeature = i\n",
    "                bestSplitPoint = None\n",
    "\n",
    "    return bestFeature, bestSplitPoint"
   ]
  },
  {
   "cell_type": "markdown",
   "id": "c8175f59-b226-46da-bcf1-4815be0e8153",
   "metadata": {
    "collapsed": false,
    "jupyter": {
     "outputs_hidden": false
    }
   },
   "source": [
    "Function to get the majority class in a list of classes :"
   ]
  },
  {
   "cell_type": "code",
   "execution_count": 9,
   "id": "f42325d1bdbcf0c2",
   "metadata": {
    "ExecuteTime": {
     "end_time": "2023-11-24T13:09:37.967723600Z",
     "start_time": "2023-11-24T13:09:37.929038200Z"
    },
    "collapsed": false,
    "jupyter": {
     "outputs_hidden": false
    }
   },
   "outputs": [],
   "source": [
    "def majorityCnt(classList):\n",
    "    classCount = {}\n",
    "    for vote in classList:\n",
    "        if vote not in classCount.keys():\n",
    "            classCount[vote] = 0\n",
    "        classCount[vote] += 1\n",
    "\n",
    "    sortedClassCount = sorted(classCount.items(), key=operator.itemgetter(1), reverse=True)\n",
    "    return sortedClassCount[0][0]"
   ]
  },
  {
   "cell_type": "markdown",
   "id": "e95af7b1-3e92-4c51-bfd9-d46beb19093e",
   "metadata": {
    "collapsed": false,
    "jupyter": {
     "outputs_hidden": false
    }
   },
   "source": [
    "Function to create a decision tree :"
   ]
  },
  {
   "cell_type": "code",
   "execution_count": 10,
   "id": "cf3e9327c99c6e23",
   "metadata": {
    "ExecuteTime": {
     "end_time": "2023-11-26T18:12:39.214232400Z",
     "start_time": "2023-11-26T18:12:39.200808600Z"
    },
    "collapsed": false,
    "jupyter": {
     "outputs_hidden": false
    }
   },
   "outputs": [],
   "source": [
    "def createTree(dataSet, labels):\n",
    "    classList = [example[-1] for example in dataSet]\n",
    "\n",
    "    # Base case: All examples belong to the same class\n",
    "    if classList.count(classList[0]) == len(classList):\n",
    "        return classList[0]\n",
    "\n",
    "    # Base case: All attributes have been used\n",
    "    if len(dataSet[0]) == 1:\n",
    "        return majorityCnt(classList)\n",
    "\n",
    "    # Recursive case: Choose the best feature to split the dataset\n",
    "    bestFeat, bestSplitPoint = chooseBestFeatureToSplit(dataSet)\n",
    "    bestFeatLabel = labels[bestFeat]\n",
    "    myTree = {bestFeatLabel: {}}\n",
    "\n",
    "    # Remove the chosen feature from the list of available features\n",
    "    del labels[bestFeat]\n",
    "\n",
    "    featValues = [example[bestFeat] for example in dataSet]\n",
    "    uniqueVals = set(featValues)\n",
    "\n",
    "    if bestSplitPoint is not None:\n",
    "        # Format the split point to display only 2 decimal places\n",
    "        splitPointStr = \"{:.2f}\".format(bestSplitPoint)\n",
    "        # Recursive call for the subset where the feature is <= split point\n",
    "        myTree[bestFeatLabel]['<= ' + splitPointStr] = createTree(splitContinuousDataSet(dataSet, bestFeat, bestSplitPoint, 1), labels.copy())\n",
    "        # Recursive call for the subset where the feature is > split point\n",
    "        myTree[bestFeatLabel]['> ' + splitPointStr] = createTree(splitContinuousDataSet(dataSet, bestFeat, bestSplitPoint, 0), labels.copy())\n",
    "    else:\n",
    "        # Recursive call for discrete feature values\n",
    "        for value in uniqueVals:\n",
    "            subLabels = labels.copy()\n",
    "            myTree[bestFeatLabel][value] = createTree(splitDataSet(dataSet, bestFeat, value), subLabels)\n",
    "\n",
    "    return myTree"
   ]
  },
  {
   "cell_type": "markdown",
   "id": "98a6797a-d4f7-4ba0-9473-041245259c52",
   "metadata": {
    "collapsed": false,
    "jupyter": {
     "outputs_hidden": false
    }
   },
   "source": [
    "Creating the decision tree :\n"
   ]
  },
  {
   "cell_type": "code",
   "execution_count": 11,
   "id": "ceb46641a1e88626",
   "metadata": {
    "ExecuteTime": {
     "end_time": "2023-11-24T13:11:56.786867700Z",
     "start_time": "2023-11-24T13:11:56.748428600Z"
    },
    "collapsed": false,
    "jupyter": {
     "outputs_hidden": false
    }
   },
   "outputs": [],
   "source": [
    "dataSet, labels = createDataSet()\n",
    "decision_tree = createTree(dataSet, labels)"
   ]
  },
  {
   "cell_type": "markdown",
   "id": "92cdb7a9-8466-439b-82be-89a34fe8a35e",
   "metadata": {
    "collapsed": false,
    "jupyter": {
     "outputs_hidden": false
    }
   },
   "source": [
    "Visualizing the decision tree :"
   ]
  },
  {
   "cell_type": "code",
   "execution_count": 12,
   "id": "56f14813865a1fd3",
   "metadata": {
    "ExecuteTime": {
     "end_time": "2023-11-24T13:12:22.066189300Z",
     "start_time": "2023-11-24T13:12:20.860648500Z"
    },
    "collapsed": false,
    "jupyter": {
     "outputs_hidden": false
    }
   },
   "outputs": [
    {
     "data": {
      "image/png": "[encoded data removed]",
      "text/plain": [
       "<Figure size 640x480 with 1 Axes>"
      ]
     },
     "metadata": {},
     "output_type": "display_data"
    }
   ],
   "source": [
    "tpl.createPlot(decision_tree)"
   ]
  },
  {
   "cell_type": "markdown",
   "id": "73db973b-4145-42ac-a082-5ada5be2644f",
   "metadata": {
    "collapsed": false,
    "jupyter": {
     "outputs_hidden": false
    }
   },
   "source": [
    "Function to classify an example using the decision tree :"
   ]
  },
  {
   "cell_type": "code",
   "execution_count": 13,
   "id": "a8beebf3dbad9725",
   "metadata": {
    "ExecuteTime": {
     "end_time": "2023-11-26T18:12:57.413466500Z",
     "start_time": "2023-11-26T18:12:57.375377600Z"
    },
    "collapsed": false,
    "jupyter": {
     "outputs_hidden": false
    }
   },
   "outputs": [],
   "source": [
    "def classify(inputTree, featLabels, testVec):\n",
    "    firstStr = list(inputTree.keys())[0]\n",
    "    secondDict = inputTree[firstStr]\n",
    "    featIndex = featLabels.index(firstStr)\n",
    "    key = float(testVec[featIndex])  # Convert the feature value to a floating-point number\n",
    "\n",
    "    for branch in secondDict:\n",
    "        if branch.startswith('<='):\n",
    "            threshold = float(branch.split()[-1])  # Extract the threshold from the branch\n",
    "            if key <= threshold:\n",
    "                if isinstance(secondDict[branch], dict):\n",
    "                    return classify(secondDict[branch], featLabels, testVec)\n",
    "                else:\n",
    "                    return secondDict[branch]\n",
    "        elif branch.startswith('>'):\n",
    "            threshold = float(branch.split()[-1])  # Extract the threshold from the branch\n",
    "            if key > threshold:\n",
    "                if isinstance(secondDict[branch], dict):\n",
    "                    return classify(secondDict[branch], featLabels, testVec)\n",
    "                else:\n",
    "                    return secondDict[branch]\n",
    "        else:\n",
    "            # Discrete feature\n",
    "            if key == float(branch):\n",
    "                if isinstance(secondDict[branch], dict):\n",
    "                    return classify(secondDict[branch], featLabels, testVec)\n",
    "                else:\n",
    "                    return secondDict[branch]\n",
    "\n",
    "    # If none of the conditions are met, return a default value or raise an exception\n",
    "    return \"Unknown\"  # You can replace \"Unknown\" with any default value or raise an exception if necessary"
   ]
  },
  {
   "cell_type": "markdown",
   "id": "7956523b-8ffa-4da9-8716-d9f6abc49fd6",
   "metadata": {
    "collapsed": false,
    "jupyter": {
     "outputs_hidden": false
    }
   },
   "source": [
    "Example usage for the Iris dataset :"
   ]
  },
  {
   "cell_type": "code",
   "execution_count": 14,
   "id": "b8fc886a76a6989c",
   "metadata": {
    "ExecuteTime": {
     "end_time": "2023-11-24T13:14:39.948337100Z",
     "start_time": "2023-11-24T13:14:39.924637900Z"
    },
    "collapsed": false,
    "jupyter": {
     "outputs_hidden": false
    }
   },
   "outputs": [],
   "source": [
    "iris_instance = ['5.1', '3.5', '1.4', '0.2']  # Remplacer par les valeurs réelles des fonctionnalités\n",
    "feature_names = ['sepal length (cm)', 'sepal width (cm)', 'petal length (cm)', 'petal width (cm)']"
   ]
  },
  {
   "cell_type": "markdown",
   "id": "207481d1-9907-4dc2-84e0-dd6bb6e06966",
   "metadata": {
    "collapsed": false,
    "jupyter": {
     "outputs_hidden": false
    }
   },
   "source": [
    "Print the predicted class"
   ]
  },
  {
   "cell_type": "code",
   "execution_count": 15,
   "id": "3bf8c0c66e809d6a",
   "metadata": {
    "ExecuteTime": {
     "end_time": "2023-11-26T18:13:10.922429500Z",
     "start_time": "2023-11-26T18:13:10.843005400Z"
    },
    "collapsed": false,
    "jupyter": {
     "outputs_hidden": false
    }
   },
   "outputs": [
    {
     "name": "stdout",
     "output_type": "stream",
     "text": [
      "Predicted Class: setosa\n"
     ]
    }
   ],
   "source": [
    "predicted_class = classify(decision_tree, feature_names, iris_instance)\n",
    "print(\"Predicted Class:\", predicted_class)"
   ]
  }
 ],
 "metadata": {
  "kernelspec": {
   "display_name": "Python 3 (ipykernel)",
   "language": "python",
   "name": "python3"
  },
  "language_info": {
   "codemirror_mode": {
    "name": "ipython",
    "version": 3
   },
   "file_extension": ".py",
   "mimetype": "text/x-python",
   "name": "python",
   "nbconvert_exporter": "python",
   "pygments_lexer": "ipython3",
   "version": "3.12.0"
  }
 },
 "nbformat": 4,
 "nbformat_minor": 5
}
